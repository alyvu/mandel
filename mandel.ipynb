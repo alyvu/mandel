{
 "cells": [
  {
   "cell_type": "code",
   "execution_count": 1,
   "metadata": {},
   "outputs": [],
   "source": [
    "import matplotlib.pyplot as plt\n",
    "import numpy as np\n",
    "from math import sqrt"
   ]
  },
  {
   "cell_type": "code",
   "execution_count": 2,
   "metadata": {},
   "outputs": [],
   "source": [
    "class Mandel:\n",
    "    def __init__(self, pixels=50, bounds=25, itermax=25):\n",
    "        self.pixels = pixels\n",
    "        self.bounds = bounds\n",
    "        self.itermax = itermax\n",
    "        self.img = np.zeros((pixels, pixels))\n",
    "        self.xbnds = [-2,0.47]\n",
    "        self.ybnds = [-1.12,1.12]\n",
    "        self.xzoombnds = np.linspace(self.xbnds[0], self.xbnds[1], 4)\n",
    "        self.yzoombnds = np.linspace(self.ybnds[0], self.ybnds[1], 4)\n",
    "\n",
    "    def __call__(self):\n",
    "        self.gen()\n",
    "\n",
    "    def zoom(self, x, y):\n",
    "        if x < 0 or x > 2: return\n",
    "        if y < 0 or y > 2: return\n",
    "        self.xbnds = [self.xzoombnds[x], self.xzoombnds[x+1]]\n",
    "        self.ybnds = [self.yzoombnds[y], self.yzoombnds[y+1]]\n",
    "        self.xzoombnds = np.linspace(self.xbnds[0], self.xbnds[1], 4)\n",
    "        self.yzoombnds = np.linspace(self.ybnds[0], self.ybnds[1], 4)\n",
    "        self.gen(self.xbnds, self.ybnds)\n",
    "\n",
    "    def gen(self, xbnds=[-2,0.47],ybnds=[-1.12,1.12]):\n",
    "        X = np.linspace(xbnds[0], xbnds[1], self.pixels)\n",
    "        Y = np.linspace(ybnds[0], ybnds[1], self.pixels)\n",
    "        for x in range(self.pixels):\n",
    "            for y in range(self.pixels):\n",
    "                c = complex(X[x],Y[y])\n",
    "                def f(z): return z**2 + c\n",
    "                z = 0; i = 0\n",
    "                while abs(z) < self.bounds and i < self.itermax:\n",
    "                    z = f(z)\n",
    "                    i += 1\n",
    "                cvrg_conf = i / self.itermax\n",
    "                self.img[x,y] = 255 * cvrg_conf\n",
    "    \n",
    "    def plot(self):\n",
    "        fig = plt.figure()\n",
    "        ax = fig.add_subplot()\n",
    "        ax.imshow(self.img, cmap='gray', vmin=0, vmax=255)"
   ]
  },
  {
   "cell_type": "code",
   "execution_count": 3,
   "metadata": {},
   "outputs": [],
   "source": [
    "m = Mandel(500, 100, 100)"
   ]
  },
  {
   "cell_type": "code",
   "execution_count": 20,
   "metadata": {},
   "outputs": [
    {
     "data": {
      "image/png": "[encoded data removed]",
      "text/plain": [
       "<Figure size 640x480 with 1 Axes>"
      ]
     },
     "metadata": {},
     "output_type": "display_data"
    }
   ],
   "source": [
    "m.zoom(0,0)\n",
    "m.plot()"
   ]
  }
 ],
 "metadata": {
  "kernelspec": {
   "display_name": "base",
   "language": "python",
   "name": "python3"
  },
  "language_info": {
   "codemirror_mode": {
    "name": "ipython",
    "version": 3
   },
   "file_extension": ".py",
   "mimetype": "text/x-python",
   "name": "python",
   "nbconvert_exporter": "python",
   "pygments_lexer": "ipython3",
   "version": "3.9.13"
  },
  "orig_nbformat": 4
 },
 "nbformat": 4,
 "nbformat_minor": 2
}
